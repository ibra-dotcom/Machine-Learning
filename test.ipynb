planet1 = 'earth'
planet2 = 'saturn'

planet2, planet1 = planet1, planet2

print(planet1)
print(planet2)
